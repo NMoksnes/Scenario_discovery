{
 "cells": [
  {
   "cell_type": "code",
   "execution_count": 1,
   "metadata": {
    "collapsed": true
   },
   "outputs": [],
   "source": [
    "import matplotlib\n",
    "#matplotlib.use('Qt5Agg')\n",
    "%matplotlib inline\n",
    "import pandas as pd\n",
    "import numpy as np\n",
    "import matplotlib.pyplot as plt\n",
    "import prim\n",
    "import seaborn as sns\n",
    "from sklearn import mixture"
   ]
  },
  {
   "cell_type": "code",
   "execution_count": 23,
   "metadata": {
    "collapsed": false
   },
   "outputs": [
    {
     "data": {
      "text/html": [
       "<div>\n",
       "<style>\n",
       "    .dataframe thead tr:only-child th {\n",
       "        text-align: right;\n",
       "    }\n",
       "\n",
       "    .dataframe thead th {\n",
       "        text-align: left;\n",
       "    }\n",
       "\n",
       "    .dataframe tbody tr th {\n",
       "        vertical-align: top;\n",
       "    }\n",
       "</style>\n",
       "<table border=\"1\" class=\"dataframe\">\n",
       "  <thead>\n",
       "    <tr style=\"text-align: right;\">\n",
       "      <th></th>\n",
       "      <th>DMD</th>\n",
       "      <th>FUEL</th>\n",
       "      <th>CC RE</th>\n",
       "      <th>DR</th>\n",
       "      <th>CO2</th>\n",
       "      <th>CC</th>\n",
       "      <th>Stranded_assets</th>\n",
       "      <th>Cost</th>\n",
       "    </tr>\n",
       "  </thead>\n",
       "  <tbody>\n",
       "    <tr>\n",
       "      <th>0</th>\n",
       "      <td>1</td>\n",
       "      <td>1</td>\n",
       "      <td>1</td>\n",
       "      <td>1</td>\n",
       "      <td>1</td>\n",
       "      <td>1</td>\n",
       "      <td>52.176879</td>\n",
       "      <td>958.83619</td>\n",
       "    </tr>\n",
       "    <tr>\n",
       "      <th>1</th>\n",
       "      <td>1</td>\n",
       "      <td>1</td>\n",
       "      <td>1</td>\n",
       "      <td>1</td>\n",
       "      <td>1</td>\n",
       "      <td>2</td>\n",
       "      <td>52.176879</td>\n",
       "      <td>958.83619</td>\n",
       "    </tr>\n",
       "  </tbody>\n",
       "</table>\n",
       "</div>"
      ],
      "text/plain": [
       "   DMD  FUEL  CC RE  DR  CO2  CC  Stranded_assets       Cost\n",
       "0    1     1      1   1    1   1        52.176879  958.83619\n",
       "1    1     1      1   1    1   2        52.176879  958.83619"
      ]
     },
     "execution_count": 23,
     "metadata": {},
     "output_type": "execute_result"
    }
   ],
   "source": [
    "sns.set_context(\"notebook\",rc={\"font.size\": 18})\n",
    "sns.set_style(\"whitegrid\")\n",
    "\n",
    "data = pd.read_excel(\"Stranded_assets_PRIM.xlsx\",\"PRIM\")\n",
    "\n",
    "new_data = data.set_index(['DMD', 'FUEL', 'CC RE', 'DR', 'CO2', 'CC', 'Stranded_assets', 'Cost']).reset_index()\n",
    "\n",
    "new_data.head(2)"
   ]
  },
  {
   "cell_type": "code",
   "execution_count": 24,
   "metadata": {
    "collapsed": false
   },
   "outputs": [],
   "source": [
    "inputs = new_data[['DMD', 'FUEL', 'CC RE', 'DR', 'CC']]\n"
   ]
  },
  {
   "cell_type": "code",
   "execution_count": 25,
   "metadata": {
    "collapsed": true
   },
   "outputs": [],
   "source": [
    "def clustering(n_clusters, data, xstring, ystring):\n",
    "    g = mixture.GaussianMixture(n_components=n_clusters)\n",
    "    g.fit(data_norm)\n",
    "    pred = g.predict(data_norm) + 1\n",
    "\n",
    "    x = []\n",
    "    y = []\n",
    "    for i in range(0, len(data)):\n",
    "        x.append(data[i][0])\n",
    "        y.append(data[i][1])\n",
    "\n",
    "    df = pd.DataFrame()\n",
    "    df[xstring] = x\n",
    "    df[ystring] = y\n",
    "    df['class'] = pred\n",
    "    return df"
   ]
  },
  {
   "cell_type": "code",
   "execution_count": 26,
   "metadata": {
    "collapsed": true
   },
   "outputs": [],
   "source": [
    "def get_prim(n_clusters, f_value,data,xstring,ystring,inputs):\n",
    "\n",
    "    df = clustering(n_clusters,data,xstring,ystring)\n",
    "    classes = df[['class']].drop_duplicates()['class']\n",
    "    list_prim =[]\n",
    "    sorted(classes)\n",
    "\n",
    "    for i in range(1,max(classes)+1):\n",
    "        list_prim.append(prim.Prim(inputs, (df['class']==i),threshold=0.5,threshold_type=\">\"))\n",
    "\n",
    "    boxes = []\n",
    "\n",
    "    for i in range(0,len(list_prim)):\n",
    "        boxes.append(list_prim[i].find_box())\n",
    "        obj = (f_value*boxes[i].peeling_trajectory['coverage']-(1-f_value)*boxes[i].peeling_trajectory['density'])**2\n",
    "        if 1 in boxes[i].peeling_trajectory['coverage']:\n",
    "            coverage1 = np.where(boxes[i].peeling_trajectory['coverage']==1)[0][0]\n",
    "            obj = obj.drop(obj.index[[coverage1]])\n",
    "        k = obj.argmin()\n",
    "        boxes[i].select(k)\n",
    "\n",
    "    return [boxes,df]"
   ]
  },
  {
   "cell_type": "code",
   "execution_count": 27,
   "metadata": {
    "collapsed": true
   },
   "outputs": [],
   "source": [
    "def normalize(data):\n",
    "    minima = np.min(data, axis=0)\n",
    "    maxima = np.max(data, axis=0)\n",
    "    a = 1/(maxima-minima)\n",
    "    b = minima/(minima-maxima)\n",
    "    data = a * data + b\n",
    "    return data\n"
   ]
  },
  {
   "cell_type": "code",
   "execution_count": 28,
   "metadata": {
    "collapsed": false
   },
   "outputs": [],
   "source": [
    "oois = ['Cost','Stranded_assets']\n",
    "\n",
    "data = np.array([[new_data[oois[0]][0],new_data[oois[1]][0]]])\n",
    "for i in range(1,len(new_data.index)):\n",
    "    data = np.concatenate((data,np.array([[new_data[oois[0]][i],new_data[oois[1]][i]]])))\n",
    "\n",
    "data_norm = normalize(data)\n",
    "\n",
    "n_clusters = 4\n",
    "f_value = 0.5\n",
    "seuil = 1.2"
   ]
  },
  {
   "cell_type": "code",
   "execution_count": 29,
   "metadata": {
    "collapsed": true
   },
   "outputs": [],
   "source": [
    "while n_clusters>2:\n",
    "\n",
    "    condition = True\n",
    "\n",
    "    for i in get_prim(n_clusters, f_value, data,oois[0],oois[1],inputs)[0]:\n",
    "        if i.coverage+i.density < seuil:\n",
    "            condition = False\n",
    "        else:\n",
    "            condition = condition&True\n",
    "    if condition == True:\n",
    "        break\n",
    "    else:\n",
    "        n_clusters = n_clusters - 1\n",
    "        continue"
   ]
  },
  {
   "cell_type": "code",
   "execution_count": 30,
   "metadata": {
    "collapsed": true
   },
   "outputs": [],
   "source": [
    "dummy = get_prim(n_clusters, f_value, data,oois[0],oois[1],inputs)\n",
    "boxes = dummy[0]\n",
    "df = dummy[1]"
   ]
  },
  {
   "cell_type": "code",
   "execution_count": 31,
   "metadata": {
    "collapsed": false
   },
   "outputs": [
    {
     "data": {
      "image/png": "[encoded data removed]",
      "text/plain": [
       "<matplotlib.figure.Figure at 0x15b0cca0128>"
      ]
     },
     "metadata": {},
     "output_type": "display_data"
    }
   ],
   "source": [
    "mycolors = [\"#66c2a5\",\"#fc8d62\",\"#8da0cb\",\"#e78ac3\"]\n",
    "mymarks = [\"o\",\"x\",\"^\",\"s\"]\n",
    "for (i,subdf) in df.groupby(\"class\"):\n",
    "\n",
    "    plt.scatter(subdf.Cost,subdf.Stranded_assets, label=\"Cluster {}\".format(i),c=mycolors[i-1],marker=mymarks[i-1])\n",
    "    \n",
    "plt.legend()\n",
    "plt.ylabel(\"Stranded assets, GW\")\n",
    "plt.xlabel(\"Cost, discounted at 6% (Trillion USD)\")\n",
    "plt.savefig(\"Stranded_assets.png\")\n",
    "#plt.show ()"
   ]
  },
  {
   "cell_type": "code",
   "execution_count": 32,
   "metadata": {
    "collapsed": false
   },
   "outputs": [
    {
     "name": "stdout",
     "output_type": "stream",
     "text": [
      "     min  max  qp values\n",
      "DMD  3.0  3.0   0.000002\n",
      "DR   3.0  3.0   0.000002\n",
      "     min  max  qp values\n",
      "DMD  2.0  3.0   0.001582\n",
      "DR   1.0  2.0   0.014652\n",
      "     min  max  qp values\n",
      "DMD  1.0  2.0   0.000046\n",
      "DR   1.0  2.0   0.000046\n",
      "       min  max     qp values\n",
      "DR     3.0  3.0  2.323057e-08\n",
      "DMD    1.0  2.0  1.522439e-03\n",
      "CC RE  1.0  2.0  1.522439e-03\n",
      "              DMD        FUEL       CC RE          DR          CC\n",
      "count  108.000000  108.000000  108.000000  108.000000  108.000000\n",
      "mean     2.000000    2.000000    2.000000    2.000000    1.500000\n",
      "std      0.820303    1.004662    0.820303    0.820303    0.502331\n",
      "min      1.000000    1.000000    1.000000    1.000000    1.000000\n",
      "25%      1.000000    1.000000    1.000000    1.000000    1.000000\n",
      "50%      2.000000    2.000000    2.000000    2.000000    1.500000\n",
      "75%      3.000000    3.000000    3.000000    3.000000    2.000000\n",
      "max      3.000000    3.000000    3.000000    3.000000    2.000000\n"
     ]
    }
   ],
   "source": [
    "print(boxes[0].limits)\n",
    "\n",
    "print(boxes[1].limits)\n",
    "\n",
    "print(boxes[2].limits)\n",
    "\n",
    "print(boxes[3].limits)\n",
    "\n",
    "print(inputs.describe())"
   ]
  },
  {
   "cell_type": "code",
   "execution_count": 33,
   "metadata": {
    "collapsed": false
   },
   "outputs": [
    {
     "data": {
      "text/plain": [
       "(1.0, 1.0)"
      ]
     },
     "execution_count": 33,
     "metadata": {},
     "output_type": "execute_result"
    }
   ],
   "source": [
    "boxes[0].coverage,boxes[0].density"
   ]
  },
  {
   "cell_type": "code",
   "execution_count": 34,
   "metadata": {
    "collapsed": false
   },
   "outputs": [
    {
     "data": {
      "text/plain": [
       "(0.80000000000000004, 0.66666666666666663)"
      ]
     },
     "execution_count": 34,
     "metadata": {},
     "output_type": "execute_result"
    }
   ],
   "source": [
    "boxes[1].coverage,boxes[1].density"
   ]
  },
  {
   "cell_type": "code",
   "execution_count": 35,
   "metadata": {
    "collapsed": false
   },
   "outputs": [
    {
     "data": {
      "text/plain": [
       "(1.0, 0.83333333333333337)"
      ]
     },
     "execution_count": 35,
     "metadata": {},
     "output_type": "execute_result"
    }
   ],
   "source": [
    "boxes[2].coverage,boxes[2].density"
   ]
  },
  {
   "cell_type": "code",
   "execution_count": 36,
   "metadata": {
    "collapsed": false
   },
   "outputs": [
    {
     "data": {
      "text/plain": [
       "(1.0, 1.0)"
      ]
     },
     "execution_count": 36,
     "metadata": {},
     "output_type": "execute_result"
    }
   ],
   "source": [
    "boxes[3].coverage,boxes[3].density"
   ]
  },
  {
   "cell_type": "code",
   "execution_count": null,
   "metadata": {
    "collapsed": true
   },
   "outputs": [],
   "source": []
  },
  {
   "cell_type": "code",
   "execution_count": null,
   "metadata": {
    "collapsed": true
   },
   "outputs": [],
   "source": []
  }
 ],
 "metadata": {
  "kernelspec": {
   "display_name": "Python 3",
   "language": "python",
   "name": "python3"
  },
  "language_info": {
   "codemirror_mode": {
    "name": "ipython",
    "version": 3
   },
   "file_extension": ".py",
   "mimetype": "text/x-python",
   "name": "python",
   "nbconvert_exporter": "python",
   "pygments_lexer": "ipython3",
   "version": "3.6.0"
  }
 },
 "nbformat": 4,
 "nbformat_minor": 2
}
