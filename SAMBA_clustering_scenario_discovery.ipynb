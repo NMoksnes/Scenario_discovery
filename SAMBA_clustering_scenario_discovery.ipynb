{
 "cells": [
  {
   "cell_type": "code",
   "execution_count": 2,
   "metadata": {
    "collapsed": false
   },
   "outputs": [],
   "source": [
    "import pandas as pd\n",
    "import numpy as np\n",
    "import matplotlib.pyplot as plt\n",
    "import prim\n",
    "import seaborn as sns\n",
    "from sklearn import mixture"
   ]
  },
  {
   "cell_type": "code",
   "execution_count": 3,
   "metadata": {
    "collapsed": true
   },
   "outputs": [],
   "source": [
    "%matplotlib inline"
   ]
  },
  {
   "cell_type": "code",
   "execution_count": 4,
   "metadata": {
    "collapsed": true
   },
   "outputs": [],
   "source": [
    "sns.set_context(\"poster\",rc={\"font.size\": 28})\n",
    "sns.set_style(\"whitegrid\")"
   ]
  },
  {
   "cell_type": "code",
   "execution_count": 5,
   "metadata": {
    "collapsed": false
   },
   "outputs": [],
   "source": [
    "data = pd.read_excel(\"SAMBA scenario results all runs_revised CO2 limit.xlsx\",\"Capital inv variable and fixed\")"
   ]
  },
  {
   "cell_type": "code",
   "execution_count": 6,
   "metadata": {
    "collapsed": false
   },
   "outputs": [
    {
     "data": {
      "text/html": [
       "<div>\n",
       "<style>\n",
       "    .dataframe thead tr:only-child th {\n",
       "        text-align: right;\n",
       "    }\n",
       "\n",
       "    .dataframe thead th {\n",
       "        text-align: left;\n",
       "    }\n",
       "\n",
       "    .dataframe tbody tr th {\n",
       "        vertical-align: top;\n",
       "    }\n",
       "</style>\n",
       "<table border=\"1\" class=\"dataframe\">\n",
       "  <thead>\n",
       "    <tr style=\"text-align: right;\">\n",
       "      <th></th>\n",
       "      <th>DMD</th>\n",
       "      <th>FUEL</th>\n",
       "      <th>CC RE</th>\n",
       "      <th>DR</th>\n",
       "      <th>CO2</th>\n",
       "      <th>CC</th>\n",
       "      <th>Parameter (million USD)</th>\n",
       "      <th>2013</th>\n",
       "      <th>2014</th>\n",
       "      <th>2015</th>\n",
       "      <th>...</th>\n",
       "      <th>2041</th>\n",
       "      <th>2042</th>\n",
       "      <th>2043</th>\n",
       "      <th>2044</th>\n",
       "      <th>2045</th>\n",
       "      <th>2046</th>\n",
       "      <th>2047</th>\n",
       "      <th>2048</th>\n",
       "      <th>2049</th>\n",
       "      <th>2050</th>\n",
       "    </tr>\n",
       "  </thead>\n",
       "  <tbody>\n",
       "    <tr>\n",
       "      <th>609</th>\n",
       "      <td>2</td>\n",
       "      <td>3</td>\n",
       "      <td>3</td>\n",
       "      <td>1</td>\n",
       "      <td>3</td>\n",
       "      <td>2</td>\n",
       "      <td>AnnualFixedOperatingCost</td>\n",
       "      <td>5937.115644</td>\n",
       "      <td>6229.188218</td>\n",
       "      <td>6670.076121</td>\n",
       "      <td>...</td>\n",
       "      <td>12918.650203</td>\n",
       "      <td>13054.032803</td>\n",
       "      <td>13372.963186</td>\n",
       "      <td>13654.586571</td>\n",
       "      <td>13918.590224</td>\n",
       "      <td>14233.221042</td>\n",
       "      <td>14556.248085</td>\n",
       "      <td>14875.966370</td>\n",
       "      <td>15186.908905</td>\n",
       "      <td>15501.578625</td>\n",
       "    </tr>\n",
       "    <tr>\n",
       "      <th>871</th>\n",
       "      <td>3</td>\n",
       "      <td>3</td>\n",
       "      <td>2</td>\n",
       "      <td>1</td>\n",
       "      <td>2</td>\n",
       "      <td>1</td>\n",
       "      <td>AnnualVariableOperatingCost</td>\n",
       "      <td>23736.982014</td>\n",
       "      <td>25076.002274</td>\n",
       "      <td>14612.705089</td>\n",
       "      <td>...</td>\n",
       "      <td>27370.755675</td>\n",
       "      <td>27946.639612</td>\n",
       "      <td>29181.043742</td>\n",
       "      <td>29548.691230</td>\n",
       "      <td>30232.147302</td>\n",
       "      <td>30551.206834</td>\n",
       "      <td>30628.704512</td>\n",
       "      <td>31221.535087</td>\n",
       "      <td>32205.322664</td>\n",
       "      <td>32946.968791</td>\n",
       "    </tr>\n",
       "    <tr>\n",
       "      <th>771</th>\n",
       "      <td>3</td>\n",
       "      <td>1</td>\n",
       "      <td>3</td>\n",
       "      <td>1</td>\n",
       "      <td>3</td>\n",
       "      <td>2</td>\n",
       "      <td>AnnualFixedOperatingCost</td>\n",
       "      <td>5937.115644</td>\n",
       "      <td>6229.200589</td>\n",
       "      <td>6670.101500</td>\n",
       "      <td>...</td>\n",
       "      <td>15192.056667</td>\n",
       "      <td>15536.313286</td>\n",
       "      <td>16098.673934</td>\n",
       "      <td>16607.713937</td>\n",
       "      <td>17023.311004</td>\n",
       "      <td>17532.222718</td>\n",
       "      <td>18011.503927</td>\n",
       "      <td>18490.564323</td>\n",
       "      <td>18939.402506</td>\n",
       "      <td>19619.086288</td>\n",
       "    </tr>\n",
       "    <tr>\n",
       "      <th>165</th>\n",
       "      <td>1</td>\n",
       "      <td>3</td>\n",
       "      <td>1</td>\n",
       "      <td>1</td>\n",
       "      <td>1</td>\n",
       "      <td>2</td>\n",
       "      <td>AnnualFixedOperatingCost</td>\n",
       "      <td>5937.115644</td>\n",
       "      <td>6229.125508</td>\n",
       "      <td>6669.981817</td>\n",
       "      <td>...</td>\n",
       "      <td>11993.173062</td>\n",
       "      <td>12197.244676</td>\n",
       "      <td>12692.767054</td>\n",
       "      <td>13260.243955</td>\n",
       "      <td>13755.590226</td>\n",
       "      <td>14400.172170</td>\n",
       "      <td>15075.698491</td>\n",
       "      <td>15845.670051</td>\n",
       "      <td>16883.858603</td>\n",
       "      <td>18469.205949</td>\n",
       "    </tr>\n",
       "    <tr>\n",
       "      <th>859</th>\n",
       "      <td>3</td>\n",
       "      <td>3</td>\n",
       "      <td>1</td>\n",
       "      <td>3</td>\n",
       "      <td>3</td>\n",
       "      <td>1</td>\n",
       "      <td>AnnualVariableOperatingCost</td>\n",
       "      <td>23746.320138</td>\n",
       "      <td>25087.884017</td>\n",
       "      <td>14621.310651</td>\n",
       "      <td>...</td>\n",
       "      <td>59043.733334</td>\n",
       "      <td>61740.699632</td>\n",
       "      <td>64614.951122</td>\n",
       "      <td>66752.023941</td>\n",
       "      <td>69018.047345</td>\n",
       "      <td>71411.581350</td>\n",
       "      <td>73696.841052</td>\n",
       "      <td>76957.399796</td>\n",
       "      <td>80694.021016</td>\n",
       "      <td>81572.951353</td>\n",
       "    </tr>\n",
       "  </tbody>\n",
       "</table>\n",
       "<p>5 rows × 45 columns</p>\n",
       "</div>"
      ],
      "text/plain": [
       "     DMD  FUEL  CC RE  DR  CO2  CC      Parameter (million USD)          2013  \\\n",
       "609    2     3      3   1    3   2     AnnualFixedOperatingCost   5937.115644   \n",
       "871    3     3      2   1    2   1  AnnualVariableOperatingCost  23736.982014   \n",
       "771    3     1      3   1    3   2     AnnualFixedOperatingCost   5937.115644   \n",
       "165    1     3      1   1    1   2     AnnualFixedOperatingCost   5937.115644   \n",
       "859    3     3      1   3    3   1  AnnualVariableOperatingCost  23746.320138   \n",
       "\n",
       "             2014          2015      ...               2041          2042  \\\n",
       "609   6229.188218   6670.076121      ...       12918.650203  13054.032803   \n",
       "871  25076.002274  14612.705089      ...       27370.755675  27946.639612   \n",
       "771   6229.200589   6670.101500      ...       15192.056667  15536.313286   \n",
       "165   6229.125508   6669.981817      ...       11993.173062  12197.244676   \n",
       "859  25087.884017  14621.310651      ...       59043.733334  61740.699632   \n",
       "\n",
       "             2043          2044          2045          2046          2047  \\\n",
       "609  13372.963186  13654.586571  13918.590224  14233.221042  14556.248085   \n",
       "871  29181.043742  29548.691230  30232.147302  30551.206834  30628.704512   \n",
       "771  16098.673934  16607.713937  17023.311004  17532.222718  18011.503927   \n",
       "165  12692.767054  13260.243955  13755.590226  14400.172170  15075.698491   \n",
       "859  64614.951122  66752.023941  69018.047345  71411.581350  73696.841052   \n",
       "\n",
       "             2048          2049          2050  \n",
       "609  14875.966370  15186.908905  15501.578625  \n",
       "871  31221.535087  32205.322664  32946.968791  \n",
       "771  18490.564323  18939.402506  19619.086288  \n",
       "165  15845.670051  16883.858603  18469.205949  \n",
       "859  76957.399796  80694.021016  81572.951353  \n",
       "\n",
       "[5 rows x 45 columns]"
      ]
     },
     "execution_count": 6,
     "metadata": {},
     "output_type": "execute_result"
    }
   ],
   "source": [
    "data.sample(5)"
   ]
  },
  {
   "cell_type": "code",
   "execution_count": 7,
   "metadata": {
    "collapsed": true
   },
   "outputs": [],
   "source": [
    "data = data.set_index(['DMD', 'FUEL', 'CC RE', 'DR', 'CO2', 'CC', 'Parameter (million USD)'])\n",
    "data.columns.name = 'year'"
   ]
  },
  {
   "cell_type": "code",
   "execution_count": 8,
   "metadata": {
    "collapsed": false
   },
   "outputs": [
    {
     "data": {
      "text/html": [
       "<div>\n",
       "<style>\n",
       "    .dataframe thead tr:only-child th {\n",
       "        text-align: right;\n",
       "    }\n",
       "\n",
       "    .dataframe thead th {\n",
       "        text-align: left;\n",
       "    }\n",
       "\n",
       "    .dataframe tbody tr th {\n",
       "        vertical-align: top;\n",
       "    }\n",
       "</style>\n",
       "<table border=\"1\" class=\"dataframe\">\n",
       "  <thead>\n",
       "    <tr style=\"text-align: right;\">\n",
       "      <th></th>\n",
       "      <th></th>\n",
       "      <th></th>\n",
       "      <th></th>\n",
       "      <th></th>\n",
       "      <th></th>\n",
       "      <th>year</th>\n",
       "      <th>2013</th>\n",
       "      <th>2014</th>\n",
       "      <th>2015</th>\n",
       "      <th>2016</th>\n",
       "      <th>2017</th>\n",
       "      <th>2018</th>\n",
       "      <th>2019</th>\n",
       "      <th>2020</th>\n",
       "      <th>2021</th>\n",
       "      <th>2022</th>\n",
       "      <th>...</th>\n",
       "      <th>2041</th>\n",
       "      <th>2042</th>\n",
       "      <th>2043</th>\n",
       "      <th>2044</th>\n",
       "      <th>2045</th>\n",
       "      <th>2046</th>\n",
       "      <th>2047</th>\n",
       "      <th>2048</th>\n",
       "      <th>2049</th>\n",
       "      <th>2050</th>\n",
       "    </tr>\n",
       "    <tr>\n",
       "      <th>DMD</th>\n",
       "      <th>FUEL</th>\n",
       "      <th>CC RE</th>\n",
       "      <th>DR</th>\n",
       "      <th>CO2</th>\n",
       "      <th>CC</th>\n",
       "      <th>Parameter (million USD)</th>\n",
       "      <th></th>\n",
       "      <th></th>\n",
       "      <th></th>\n",
       "      <th></th>\n",
       "      <th></th>\n",
       "      <th></th>\n",
       "      <th></th>\n",
       "      <th></th>\n",
       "      <th></th>\n",
       "      <th></th>\n",
       "      <th></th>\n",
       "      <th></th>\n",
       "      <th></th>\n",
       "      <th></th>\n",
       "      <th></th>\n",
       "      <th></th>\n",
       "      <th></th>\n",
       "      <th></th>\n",
       "      <th></th>\n",
       "      <th></th>\n",
       "      <th></th>\n",
       "    </tr>\n",
       "  </thead>\n",
       "  <tbody>\n",
       "    <tr>\n",
       "      <th rowspan=\"2\" valign=\"top\">1</th>\n",
       "      <th rowspan=\"2\" valign=\"top\">1</th>\n",
       "      <th rowspan=\"2\" valign=\"top\">1</th>\n",
       "      <th rowspan=\"2\" valign=\"top\">1</th>\n",
       "      <th rowspan=\"2\" valign=\"top\">1</th>\n",
       "      <th rowspan=\"2\" valign=\"top\">1</th>\n",
       "      <th>AnnualFixedOperatingCost</th>\n",
       "      <td>5937.115644</td>\n",
       "      <td>6229.125508</td>\n",
       "      <td>6669.981817</td>\n",
       "      <td>6981.544297</td>\n",
       "      <td>7144.275262</td>\n",
       "      <td>7492.618499</td>\n",
       "      <td>7600.822183</td>\n",
       "      <td>8000.109484</td>\n",
       "      <td>8304.989014</td>\n",
       "      <td>8549.425155</td>\n",
       "      <td>...</td>\n",
       "      <td>11979.380309</td>\n",
       "      <td>12192.896025</td>\n",
       "      <td>12688.800543</td>\n",
       "      <td>13263.286310</td>\n",
       "      <td>13758.438802</td>\n",
       "      <td>14402.767679</td>\n",
       "      <td>15080.902688</td>\n",
       "      <td>15851.165995</td>\n",
       "      <td>16891.193083</td>\n",
       "      <td>18474.723458</td>\n",
       "    </tr>\n",
       "    <tr>\n",
       "      <th>AnnualVariableOperatingCost</th>\n",
       "      <td>23736.982014</td>\n",
       "      <td>25166.563181</td>\n",
       "      <td>14690.847642</td>\n",
       "      <td>13925.402508</td>\n",
       "      <td>15083.290133</td>\n",
       "      <td>15917.372395</td>\n",
       "      <td>17023.632733</td>\n",
       "      <td>15533.913198</td>\n",
       "      <td>14996.139778</td>\n",
       "      <td>15012.933518</td>\n",
       "      <td>...</td>\n",
       "      <td>17951.315696</td>\n",
       "      <td>17831.787186</td>\n",
       "      <td>18012.594365</td>\n",
       "      <td>18068.785242</td>\n",
       "      <td>18464.389330</td>\n",
       "      <td>18834.179762</td>\n",
       "      <td>18891.846355</td>\n",
       "      <td>18977.136266</td>\n",
       "      <td>19228.950095</td>\n",
       "      <td>19166.058461</td>\n",
       "    </tr>\n",
       "  </tbody>\n",
       "</table>\n",
       "<p>2 rows × 38 columns</p>\n",
       "</div>"
      ],
      "text/plain": [
       "year                                                          2013  \\\n",
       "DMD FUEL CC RE DR CO2 CC Parameter (million USD)                     \n",
       "1   1    1     1  1   1  AnnualFixedOperatingCost      5937.115644   \n",
       "                         AnnualVariableOperatingCost  23736.982014   \n",
       "\n",
       "year                                                          2014  \\\n",
       "DMD FUEL CC RE DR CO2 CC Parameter (million USD)                     \n",
       "1   1    1     1  1   1  AnnualFixedOperatingCost      6229.125508   \n",
       "                         AnnualVariableOperatingCost  25166.563181   \n",
       "\n",
       "year                                                          2015  \\\n",
       "DMD FUEL CC RE DR CO2 CC Parameter (million USD)                     \n",
       "1   1    1     1  1   1  AnnualFixedOperatingCost      6669.981817   \n",
       "                         AnnualVariableOperatingCost  14690.847642   \n",
       "\n",
       "year                                                          2016  \\\n",
       "DMD FUEL CC RE DR CO2 CC Parameter (million USD)                     \n",
       "1   1    1     1  1   1  AnnualFixedOperatingCost      6981.544297   \n",
       "                         AnnualVariableOperatingCost  13925.402508   \n",
       "\n",
       "year                                                          2017  \\\n",
       "DMD FUEL CC RE DR CO2 CC Parameter (million USD)                     \n",
       "1   1    1     1  1   1  AnnualFixedOperatingCost      7144.275262   \n",
       "                         AnnualVariableOperatingCost  15083.290133   \n",
       "\n",
       "year                                                          2018  \\\n",
       "DMD FUEL CC RE DR CO2 CC Parameter (million USD)                     \n",
       "1   1    1     1  1   1  AnnualFixedOperatingCost      7492.618499   \n",
       "                         AnnualVariableOperatingCost  15917.372395   \n",
       "\n",
       "year                                                          2019  \\\n",
       "DMD FUEL CC RE DR CO2 CC Parameter (million USD)                     \n",
       "1   1    1     1  1   1  AnnualFixedOperatingCost      7600.822183   \n",
       "                         AnnualVariableOperatingCost  17023.632733   \n",
       "\n",
       "year                                                          2020  \\\n",
       "DMD FUEL CC RE DR CO2 CC Parameter (million USD)                     \n",
       "1   1    1     1  1   1  AnnualFixedOperatingCost      8000.109484   \n",
       "                         AnnualVariableOperatingCost  15533.913198   \n",
       "\n",
       "year                                                          2021  \\\n",
       "DMD FUEL CC RE DR CO2 CC Parameter (million USD)                     \n",
       "1   1    1     1  1   1  AnnualFixedOperatingCost      8304.989014   \n",
       "                         AnnualVariableOperatingCost  14996.139778   \n",
       "\n",
       "year                                                          2022  \\\n",
       "DMD FUEL CC RE DR CO2 CC Parameter (million USD)                     \n",
       "1   1    1     1  1   1  AnnualFixedOperatingCost      8549.425155   \n",
       "                         AnnualVariableOperatingCost  15012.933518   \n",
       "\n",
       "year                                                      ...       \\\n",
       "DMD FUEL CC RE DR CO2 CC Parameter (million USD)          ...        \n",
       "1   1    1     1  1   1  AnnualFixedOperatingCost         ...        \n",
       "                         AnnualVariableOperatingCost      ...        \n",
       "\n",
       "year                                                          2041  \\\n",
       "DMD FUEL CC RE DR CO2 CC Parameter (million USD)                     \n",
       "1   1    1     1  1   1  AnnualFixedOperatingCost     11979.380309   \n",
       "                         AnnualVariableOperatingCost  17951.315696   \n",
       "\n",
       "year                                                          2042  \\\n",
       "DMD FUEL CC RE DR CO2 CC Parameter (million USD)                     \n",
       "1   1    1     1  1   1  AnnualFixedOperatingCost     12192.896025   \n",
       "                         AnnualVariableOperatingCost  17831.787186   \n",
       "\n",
       "year                                                          2043  \\\n",
       "DMD FUEL CC RE DR CO2 CC Parameter (million USD)                     \n",
       "1   1    1     1  1   1  AnnualFixedOperatingCost     12688.800543   \n",
       "                         AnnualVariableOperatingCost  18012.594365   \n",
       "\n",
       "year                                                          2044  \\\n",
       "DMD FUEL CC RE DR CO2 CC Parameter (million USD)                     \n",
       "1   1    1     1  1   1  AnnualFixedOperatingCost     13263.286310   \n",
       "                         AnnualVariableOperatingCost  18068.785242   \n",
       "\n",
       "year                                                          2045  \\\n",
       "DMD FUEL CC RE DR CO2 CC Parameter (million USD)                     \n",
       "1   1    1     1  1   1  AnnualFixedOperatingCost     13758.438802   \n",
       "                         AnnualVariableOperatingCost  18464.389330   \n",
       "\n",
       "year                                                          2046  \\\n",
       "DMD FUEL CC RE DR CO2 CC Parameter (million USD)                     \n",
       "1   1    1     1  1   1  AnnualFixedOperatingCost     14402.767679   \n",
       "                         AnnualVariableOperatingCost  18834.179762   \n",
       "\n",
       "year                                                          2047  \\\n",
       "DMD FUEL CC RE DR CO2 CC Parameter (million USD)                     \n",
       "1   1    1     1  1   1  AnnualFixedOperatingCost     15080.902688   \n",
       "                         AnnualVariableOperatingCost  18891.846355   \n",
       "\n",
       "year                                                          2048  \\\n",
       "DMD FUEL CC RE DR CO2 CC Parameter (million USD)                     \n",
       "1   1    1     1  1   1  AnnualFixedOperatingCost     15851.165995   \n",
       "                         AnnualVariableOperatingCost  18977.136266   \n",
       "\n",
       "year                                                          2049  \\\n",
       "DMD FUEL CC RE DR CO2 CC Parameter (million USD)                     \n",
       "1   1    1     1  1   1  AnnualFixedOperatingCost     16891.193083   \n",
       "                         AnnualVariableOperatingCost  19228.950095   \n",
       "\n",
       "year                                                          2050  \n",
       "DMD FUEL CC RE DR CO2 CC Parameter (million USD)                    \n",
       "1   1    1     1  1   1  AnnualFixedOperatingCost     18474.723458  \n",
       "                         AnnualVariableOperatingCost  19166.058461  \n",
       "\n",
       "[2 rows x 38 columns]"
      ]
     },
     "execution_count": 8,
     "metadata": {},
     "output_type": "execute_result"
    }
   ],
   "source": [
    "data.head(2)"
   ]
  },
  {
   "cell_type": "code",
   "execution_count": 9,
   "metadata": {
    "collapsed": true
   },
   "outputs": [],
   "source": [
    "data = data.stack('year')\n",
    "data.name = 'value'"
   ]
  },
  {
   "cell_type": "code",
   "execution_count": 10,
   "metadata": {
    "collapsed": false
   },
   "outputs": [
    {
     "data": {
      "text/plain": [
       "DMD  FUEL  CC RE  DR  CO2  CC  Parameter (million USD)   year\n",
       "1    1     1      1   1    1   AnnualFixedOperatingCost  2013    5937.115644\n",
       "                                                         2014    6229.125508\n",
       "Name: value, dtype: float64"
      ]
     },
     "execution_count": 10,
     "metadata": {},
     "output_type": "execute_result"
    }
   ],
   "source": [
    "data.head(2)"
   ]
  },
  {
   "cell_type": "code",
   "execution_count": 11,
   "metadata": {
    "collapsed": false
   },
   "outputs": [
    {
     "data": {
      "text/plain": [
       "0    1.000000\n",
       "1    0.943396\n",
       "2    0.889996\n",
       "3    0.839619\n",
       "4    0.792094\n",
       "5    0.747258\n",
       "6    0.704961\n",
       "7    0.665057\n",
       "8    0.627412\n",
       "9    0.591898\n",
       "Name: discount_factor, dtype: float64"
      ]
     },
     "execution_count": 11,
     "metadata": {},
     "output_type": "execute_result"
    }
   ],
   "source": [
    "data = data.reset_index()\n",
    "d = 0.06\n",
    "data[\"discount_factor\"] = (1+d)**(1-(data.year.astype(int)-2012))\n",
    "data.discount_factor.head(10)"
   ]
  },
  {
   "cell_type": "code",
   "execution_count": 12,
   "metadata": {
    "collapsed": false
   },
   "outputs": [
    {
     "data": {
      "text/html": [
       "<div>\n",
       "<style>\n",
       "    .dataframe thead tr:only-child th {\n",
       "        text-align: right;\n",
       "    }\n",
       "\n",
       "    .dataframe thead th {\n",
       "        text-align: left;\n",
       "    }\n",
       "\n",
       "    .dataframe tbody tr th {\n",
       "        vertical-align: top;\n",
       "    }\n",
       "</style>\n",
       "<table border=\"1\" class=\"dataframe\">\n",
       "  <thead>\n",
       "    <tr style=\"text-align: right;\">\n",
       "      <th></th>\n",
       "      <th>DMD</th>\n",
       "      <th>FUEL</th>\n",
       "      <th>CC RE</th>\n",
       "      <th>DR</th>\n",
       "      <th>CO2</th>\n",
       "      <th>CC</th>\n",
       "      <th>Parameter (million USD)</th>\n",
       "      <th>year</th>\n",
       "      <th>value</th>\n",
       "      <th>discount_factor</th>\n",
       "      <th>discounted_value</th>\n",
       "    </tr>\n",
       "  </thead>\n",
       "  <tbody>\n",
       "    <tr>\n",
       "      <th>0</th>\n",
       "      <td>1</td>\n",
       "      <td>1</td>\n",
       "      <td>1</td>\n",
       "      <td>1</td>\n",
       "      <td>1</td>\n",
       "      <td>1</td>\n",
       "      <td>AnnualFixedOperatingCost</td>\n",
       "      <td>2013</td>\n",
       "      <td>5937.115644</td>\n",
       "      <td>1.000000</td>\n",
       "      <td>5937.115644</td>\n",
       "    </tr>\n",
       "    <tr>\n",
       "      <th>1</th>\n",
       "      <td>1</td>\n",
       "      <td>1</td>\n",
       "      <td>1</td>\n",
       "      <td>1</td>\n",
       "      <td>1</td>\n",
       "      <td>1</td>\n",
       "      <td>AnnualFixedOperatingCost</td>\n",
       "      <td>2014</td>\n",
       "      <td>6229.125508</td>\n",
       "      <td>0.943396</td>\n",
       "      <td>5876.533498</td>\n",
       "    </tr>\n",
       "    <tr>\n",
       "      <th>2</th>\n",
       "      <td>1</td>\n",
       "      <td>1</td>\n",
       "      <td>1</td>\n",
       "      <td>1</td>\n",
       "      <td>1</td>\n",
       "      <td>1</td>\n",
       "      <td>AnnualFixedOperatingCost</td>\n",
       "      <td>2015</td>\n",
       "      <td>6669.981817</td>\n",
       "      <td>0.889996</td>\n",
       "      <td>5936.260072</td>\n",
       "    </tr>\n",
       "    <tr>\n",
       "      <th>3</th>\n",
       "      <td>1</td>\n",
       "      <td>1</td>\n",
       "      <td>1</td>\n",
       "      <td>1</td>\n",
       "      <td>1</td>\n",
       "      <td>1</td>\n",
       "      <td>AnnualFixedOperatingCost</td>\n",
       "      <td>2016</td>\n",
       "      <td>6981.544297</td>\n",
       "      <td>0.839619</td>\n",
       "      <td>5861.839217</td>\n",
       "    </tr>\n",
       "    <tr>\n",
       "      <th>4</th>\n",
       "      <td>1</td>\n",
       "      <td>1</td>\n",
       "      <td>1</td>\n",
       "      <td>1</td>\n",
       "      <td>1</td>\n",
       "      <td>1</td>\n",
       "      <td>AnnualFixedOperatingCost</td>\n",
       "      <td>2017</td>\n",
       "      <td>7144.275262</td>\n",
       "      <td>0.792094</td>\n",
       "      <td>5658.935164</td>\n",
       "    </tr>\n",
       "    <tr>\n",
       "      <th>5</th>\n",
       "      <td>1</td>\n",
       "      <td>1</td>\n",
       "      <td>1</td>\n",
       "      <td>1</td>\n",
       "      <td>1</td>\n",
       "      <td>1</td>\n",
       "      <td>AnnualFixedOperatingCost</td>\n",
       "      <td>2018</td>\n",
       "      <td>7492.618499</td>\n",
       "      <td>0.747258</td>\n",
       "      <td>5598.920410</td>\n",
       "    </tr>\n",
       "    <tr>\n",
       "      <th>6</th>\n",
       "      <td>1</td>\n",
       "      <td>1</td>\n",
       "      <td>1</td>\n",
       "      <td>1</td>\n",
       "      <td>1</td>\n",
       "      <td>1</td>\n",
       "      <td>AnnualFixedOperatingCost</td>\n",
       "      <td>2019</td>\n",
       "      <td>7600.822183</td>\n",
       "      <td>0.704961</td>\n",
       "      <td>5358.279714</td>\n",
       "    </tr>\n",
       "    <tr>\n",
       "      <th>7</th>\n",
       "      <td>1</td>\n",
       "      <td>1</td>\n",
       "      <td>1</td>\n",
       "      <td>1</td>\n",
       "      <td>1</td>\n",
       "      <td>1</td>\n",
       "      <td>AnnualFixedOperatingCost</td>\n",
       "      <td>2020</td>\n",
       "      <td>8000.109484</td>\n",
       "      <td>0.665057</td>\n",
       "      <td>5320.529722</td>\n",
       "    </tr>\n",
       "    <tr>\n",
       "      <th>8</th>\n",
       "      <td>1</td>\n",
       "      <td>1</td>\n",
       "      <td>1</td>\n",
       "      <td>1</td>\n",
       "      <td>1</td>\n",
       "      <td>1</td>\n",
       "      <td>AnnualFixedOperatingCost</td>\n",
       "      <td>2021</td>\n",
       "      <td>8304.989014</td>\n",
       "      <td>0.627412</td>\n",
       "      <td>5210.652851</td>\n",
       "    </tr>\n",
       "    <tr>\n",
       "      <th>9</th>\n",
       "      <td>1</td>\n",
       "      <td>1</td>\n",
       "      <td>1</td>\n",
       "      <td>1</td>\n",
       "      <td>1</td>\n",
       "      <td>1</td>\n",
       "      <td>AnnualFixedOperatingCost</td>\n",
       "      <td>2022</td>\n",
       "      <td>8549.425155</td>\n",
       "      <td>0.591898</td>\n",
       "      <td>5060.391613</td>\n",
       "    </tr>\n",
       "  </tbody>\n",
       "</table>\n",
       "</div>"
      ],
      "text/plain": [
       "   DMD  FUEL  CC RE  DR  CO2  CC   Parameter (million USD)  year        value  \\\n",
       "0    1     1      1   1    1   1  AnnualFixedOperatingCost  2013  5937.115644   \n",
       "1    1     1      1   1    1   1  AnnualFixedOperatingCost  2014  6229.125508   \n",
       "2    1     1      1   1    1   1  AnnualFixedOperatingCost  2015  6669.981817   \n",
       "3    1     1      1   1    1   1  AnnualFixedOperatingCost  2016  6981.544297   \n",
       "4    1     1      1   1    1   1  AnnualFixedOperatingCost  2017  7144.275262   \n",
       "5    1     1      1   1    1   1  AnnualFixedOperatingCost  2018  7492.618499   \n",
       "6    1     1      1   1    1   1  AnnualFixedOperatingCost  2019  7600.822183   \n",
       "7    1     1      1   1    1   1  AnnualFixedOperatingCost  2020  8000.109484   \n",
       "8    1     1      1   1    1   1  AnnualFixedOperatingCost  2021  8304.989014   \n",
       "9    1     1      1   1    1   1  AnnualFixedOperatingCost  2022  8549.425155   \n",
       "\n",
       "   discount_factor  discounted_value  \n",
       "0         1.000000       5937.115644  \n",
       "1         0.943396       5876.533498  \n",
       "2         0.889996       5936.260072  \n",
       "3         0.839619       5861.839217  \n",
       "4         0.792094       5658.935164  \n",
       "5         0.747258       5598.920410  \n",
       "6         0.704961       5358.279714  \n",
       "7         0.665057       5320.529722  \n",
       "8         0.627412       5210.652851  \n",
       "9         0.591898       5060.391613  "
      ]
     },
     "execution_count": 12,
     "metadata": {},
     "output_type": "execute_result"
    }
   ],
   "source": [
    "data[\"discounted_value\"] = data.value*data.discount_factor\n",
    "data.head(10)"
   ]
  },
  {
   "cell_type": "code",
   "execution_count": 13,
   "metadata": {
    "collapsed": false
   },
   "outputs": [],
   "source": [
    "new_data = data.set_index(['DMD', 'FUEL', 'CC RE', 'DR', 'CO2', 'CC', 'Parameter (million USD)']).discounted_value.sum(level=['DMD', 'FUEL', 'CC RE', 'DR', 'CO2', 'CC', 'Parameter (million USD)']).unstack(\"Parameter (million USD)\").reset_index()"
   ]
  },
  {
   "cell_type": "code",
   "execution_count": 14,
   "metadata": {
    "collapsed": false
   },
   "outputs": [
    {
     "data": {
      "text/html": [
       "<div>\n",
       "<style>\n",
       "    .dataframe thead tr:only-child th {\n",
       "        text-align: right;\n",
       "    }\n",
       "\n",
       "    .dataframe thead th {\n",
       "        text-align: left;\n",
       "    }\n",
       "\n",
       "    .dataframe tbody tr th {\n",
       "        vertical-align: top;\n",
       "    }\n",
       "</style>\n",
       "<table border=\"1\" class=\"dataframe\">\n",
       "  <thead>\n",
       "    <tr style=\"text-align: right;\">\n",
       "      <th>Parameter (million USD)</th>\n",
       "      <th>DMD</th>\n",
       "      <th>FUEL</th>\n",
       "      <th>CC RE</th>\n",
       "      <th>DR</th>\n",
       "      <th>CO2</th>\n",
       "      <th>CC</th>\n",
       "      <th>AnnualFixedOperatingCost</th>\n",
       "      <th>AnnualVariableOperatingCost</th>\n",
       "      <th>CapitalInvestment</th>\n",
       "    </tr>\n",
       "  </thead>\n",
       "  <tbody>\n",
       "    <tr>\n",
       "      <th>0</th>\n",
       "      <td>1</td>\n",
       "      <td>1</td>\n",
       "      <td>1</td>\n",
       "      <td>1</td>\n",
       "      <td>1</td>\n",
       "      <td>1</td>\n",
       "      <td>140132.501609</td>\n",
       "      <td>265573.679013</td>\n",
       "      <td>553130.009359</td>\n",
       "    </tr>\n",
       "    <tr>\n",
       "      <th>1</th>\n",
       "      <td>1</td>\n",
       "      <td>1</td>\n",
       "      <td>1</td>\n",
       "      <td>1</td>\n",
       "      <td>1</td>\n",
       "      <td>2</td>\n",
       "      <td>140132.501609</td>\n",
       "      <td>265573.679013</td>\n",
       "      <td>553130.009359</td>\n",
       "    </tr>\n",
       "    <tr>\n",
       "      <th>2</th>\n",
       "      <td>1</td>\n",
       "      <td>1</td>\n",
       "      <td>1</td>\n",
       "      <td>1</td>\n",
       "      <td>2</td>\n",
       "      <td>1</td>\n",
       "      <td>136950.740836</td>\n",
       "      <td>268463.184119</td>\n",
       "      <td>507686.341384</td>\n",
       "    </tr>\n",
       "    <tr>\n",
       "      <th>3</th>\n",
       "      <td>1</td>\n",
       "      <td>1</td>\n",
       "      <td>1</td>\n",
       "      <td>1</td>\n",
       "      <td>2</td>\n",
       "      <td>2</td>\n",
       "      <td>136938.335930</td>\n",
       "      <td>268034.979319</td>\n",
       "      <td>508221.572493</td>\n",
       "    </tr>\n",
       "    <tr>\n",
       "      <th>4</th>\n",
       "      <td>1</td>\n",
       "      <td>1</td>\n",
       "      <td>1</td>\n",
       "      <td>1</td>\n",
       "      <td>3</td>\n",
       "      <td>1</td>\n",
       "      <td>137194.796730</td>\n",
       "      <td>269136.897516</td>\n",
       "      <td>505235.136490</td>\n",
       "    </tr>\n",
       "    <tr>\n",
       "      <th>5</th>\n",
       "      <td>1</td>\n",
       "      <td>1</td>\n",
       "      <td>1</td>\n",
       "      <td>1</td>\n",
       "      <td>3</td>\n",
       "      <td>2</td>\n",
       "      <td>137120.395695</td>\n",
       "      <td>268674.061365</td>\n",
       "      <td>505765.265584</td>\n",
       "    </tr>\n",
       "    <tr>\n",
       "      <th>6</th>\n",
       "      <td>1</td>\n",
       "      <td>1</td>\n",
       "      <td>1</td>\n",
       "      <td>2</td>\n",
       "      <td>1</td>\n",
       "      <td>1</td>\n",
       "      <td>135471.905267</td>\n",
       "      <td>291188.398482</td>\n",
       "      <td>580234.646659</td>\n",
       "    </tr>\n",
       "    <tr>\n",
       "      <th>7</th>\n",
       "      <td>1</td>\n",
       "      <td>1</td>\n",
       "      <td>1</td>\n",
       "      <td>2</td>\n",
       "      <td>1</td>\n",
       "      <td>2</td>\n",
       "      <td>135471.905267</td>\n",
       "      <td>291188.398482</td>\n",
       "      <td>580234.646659</td>\n",
       "    </tr>\n",
       "    <tr>\n",
       "      <th>8</th>\n",
       "      <td>1</td>\n",
       "      <td>1</td>\n",
       "      <td>1</td>\n",
       "      <td>2</td>\n",
       "      <td>2</td>\n",
       "      <td>1</td>\n",
       "      <td>130259.469168</td>\n",
       "      <td>305299.735148</td>\n",
       "      <td>510378.072923</td>\n",
       "    </tr>\n",
       "    <tr>\n",
       "      <th>9</th>\n",
       "      <td>1</td>\n",
       "      <td>1</td>\n",
       "      <td>1</td>\n",
       "      <td>2</td>\n",
       "      <td>2</td>\n",
       "      <td>2</td>\n",
       "      <td>130053.870567</td>\n",
       "      <td>304220.952584</td>\n",
       "      <td>512049.004149</td>\n",
       "    </tr>\n",
       "    <tr>\n",
       "      <th>10</th>\n",
       "      <td>1</td>\n",
       "      <td>1</td>\n",
       "      <td>1</td>\n",
       "      <td>2</td>\n",
       "      <td>3</td>\n",
       "      <td>1</td>\n",
       "      <td>129749.833122</td>\n",
       "      <td>309986.940451</td>\n",
       "      <td>494101.522907</td>\n",
       "    </tr>\n",
       "    <tr>\n",
       "      <th>11</th>\n",
       "      <td>1</td>\n",
       "      <td>1</td>\n",
       "      <td>1</td>\n",
       "      <td>2</td>\n",
       "      <td>3</td>\n",
       "      <td>2</td>\n",
       "      <td>129498.657791</td>\n",
       "      <td>309035.499613</td>\n",
       "      <td>495831.142826</td>\n",
       "    </tr>\n",
       "    <tr>\n",
       "      <th>12</th>\n",
       "      <td>1</td>\n",
       "      <td>1</td>\n",
       "      <td>1</td>\n",
       "      <td>3</td>\n",
       "      <td>1</td>\n",
       "      <td>1</td>\n",
       "      <td>131634.881440</td>\n",
       "      <td>318765.646422</td>\n",
       "      <td>676401.679556</td>\n",
       "    </tr>\n",
       "    <tr>\n",
       "      <th>13</th>\n",
       "      <td>1</td>\n",
       "      <td>1</td>\n",
       "      <td>1</td>\n",
       "      <td>3</td>\n",
       "      <td>1</td>\n",
       "      <td>2</td>\n",
       "      <td>131634.881440</td>\n",
       "      <td>318765.646422</td>\n",
       "      <td>676401.679556</td>\n",
       "    </tr>\n",
       "    <tr>\n",
       "      <th>14</th>\n",
       "      <td>1</td>\n",
       "      <td>1</td>\n",
       "      <td>1</td>\n",
       "      <td>3</td>\n",
       "      <td>2</td>\n",
       "      <td>1</td>\n",
       "      <td>124578.903808</td>\n",
       "      <td>380281.527953</td>\n",
       "      <td>546076.212994</td>\n",
       "    </tr>\n",
       "  </tbody>\n",
       "</table>\n",
       "</div>"
      ],
      "text/plain": [
       "Parameter (million USD)  DMD  FUEL  CC RE  DR  CO2  CC  \\\n",
       "0                          1     1      1   1    1   1   \n",
       "1                          1     1      1   1    1   2   \n",
       "2                          1     1      1   1    2   1   \n",
       "3                          1     1      1   1    2   2   \n",
       "4                          1     1      1   1    3   1   \n",
       "5                          1     1      1   1    3   2   \n",
       "6                          1     1      1   2    1   1   \n",
       "7                          1     1      1   2    1   2   \n",
       "8                          1     1      1   2    2   1   \n",
       "9                          1     1      1   2    2   2   \n",
       "10                         1     1      1   2    3   1   \n",
       "11                         1     1      1   2    3   2   \n",
       "12                         1     1      1   3    1   1   \n",
       "13                         1     1      1   3    1   2   \n",
       "14                         1     1      1   3    2   1   \n",
       "\n",
       "Parameter (million USD)  AnnualFixedOperatingCost  \\\n",
       "0                                   140132.501609   \n",
       "1                                   140132.501609   \n",
       "2                                   136950.740836   \n",
       "3                                   136938.335930   \n",
       "4                                   137194.796730   \n",
       "5                                   137120.395695   \n",
       "6                                   135471.905267   \n",
       "7                                   135471.905267   \n",
       "8                                   130259.469168   \n",
       "9                                   130053.870567   \n",
       "10                                  129749.833122   \n",
       "11                                  129498.657791   \n",
       "12                                  131634.881440   \n",
       "13                                  131634.881440   \n",
       "14                                  124578.903808   \n",
       "\n",
       "Parameter (million USD)  AnnualVariableOperatingCost  CapitalInvestment  \n",
       "0                                      265573.679013      553130.009359  \n",
       "1                                      265573.679013      553130.009359  \n",
       "2                                      268463.184119      507686.341384  \n",
       "3                                      268034.979319      508221.572493  \n",
       "4                                      269136.897516      505235.136490  \n",
       "5                                      268674.061365      505765.265584  \n",
       "6                                      291188.398482      580234.646659  \n",
       "7                                      291188.398482      580234.646659  \n",
       "8                                      305299.735148      510378.072923  \n",
       "9                                      304220.952584      512049.004149  \n",
       "10                                     309986.940451      494101.522907  \n",
       "11                                     309035.499613      495831.142826  \n",
       "12                                     318765.646422      676401.679556  \n",
       "13                                     318765.646422      676401.679556  \n",
       "14                                     380281.527953      546076.212994  "
      ]
     },
     "execution_count": 14,
     "metadata": {},
     "output_type": "execute_result"
    }
   ],
   "source": [
    "new_data.head(15)"
   ]
  },
  {
   "cell_type": "markdown",
   "metadata": {},
   "source": [
    "### separate uncertain factors from results"
   ]
  },
  {
   "cell_type": "code",
   "execution_count": 15,
   "metadata": {
    "collapsed": true
   },
   "outputs": [],
   "source": [
    "inputs = new_data[['DMD', 'FUEL', 'CC RE', 'DR', 'CO2', 'CC']]"
   ]
  },
  {
   "cell_type": "markdown",
   "metadata": {},
   "source": [
    "### results (costs)"
   ]
  },
  {
   "cell_type": "code",
   "execution_count": 16,
   "metadata": {
    "collapsed": false
   },
   "outputs": [
    {
     "data": {
      "text/html": [
       "<div>\n",
       "<style>\n",
       "    .dataframe thead tr:only-child th {\n",
       "        text-align: right;\n",
       "    }\n",
       "\n",
       "    .dataframe thead th {\n",
       "        text-align: left;\n",
       "    }\n",
       "\n",
       "    .dataframe tbody tr th {\n",
       "        vertical-align: top;\n",
       "    }\n",
       "</style>\n",
       "<table border=\"1\" class=\"dataframe\">\n",
       "  <thead>\n",
       "    <tr style=\"text-align: right;\">\n",
       "      <th>Parameter (million USD)</th>\n",
       "      <th>CapitalInvestment</th>\n",
       "      <th>AnnualFixedOperatingCost</th>\n",
       "      <th>AnnualVariableOperatingCost</th>\n",
       "    </tr>\n",
       "  </thead>\n",
       "  <tbody>\n",
       "    <tr>\n",
       "      <th>count</th>\n",
       "      <td>3.240000e+02</td>\n",
       "      <td>324.000000</td>\n",
       "      <td>324.000000</td>\n",
       "    </tr>\n",
       "    <tr>\n",
       "      <th>mean</th>\n",
       "      <td>6.540085e+05</td>\n",
       "      <td>140250.300676</td>\n",
       "      <td>343650.695148</td>\n",
       "    </tr>\n",
       "    <tr>\n",
       "      <th>std</th>\n",
       "      <td>1.463792e+05</td>\n",
       "      <td>8435.880516</td>\n",
       "      <td>61490.805437</td>\n",
       "    </tr>\n",
       "    <tr>\n",
       "      <th>min</th>\n",
       "      <td>4.593265e+05</td>\n",
       "      <td>123993.336826</td>\n",
       "      <td>265573.679013</td>\n",
       "    </tr>\n",
       "    <tr>\n",
       "      <th>25%</th>\n",
       "      <td>5.456507e+05</td>\n",
       "      <td>133773.394219</td>\n",
       "      <td>299689.070437</td>\n",
       "    </tr>\n",
       "    <tr>\n",
       "      <th>50%</th>\n",
       "      <td>6.153911e+05</td>\n",
       "      <td>139659.728606</td>\n",
       "      <td>324868.136535</td>\n",
       "    </tr>\n",
       "    <tr>\n",
       "      <th>75%</th>\n",
       "      <td>7.233889e+05</td>\n",
       "      <td>144708.575480</td>\n",
       "      <td>371229.781523</td>\n",
       "    </tr>\n",
       "    <tr>\n",
       "      <th>max</th>\n",
       "      <td>1.184594e+06</td>\n",
       "      <td>162493.071318</td>\n",
       "      <td>534280.521865</td>\n",
       "    </tr>\n",
       "  </tbody>\n",
       "</table>\n",
       "</div>"
      ],
      "text/plain": [
       "Parameter (million USD)  CapitalInvestment  AnnualFixedOperatingCost  \\\n",
       "count                         3.240000e+02                324.000000   \n",
       "mean                          6.540085e+05             140250.300676   \n",
       "std                           1.463792e+05               8435.880516   \n",
       "min                           4.593265e+05             123993.336826   \n",
       "25%                           5.456507e+05             133773.394219   \n",
       "50%                           6.153911e+05             139659.728606   \n",
       "75%                           7.233889e+05             144708.575480   \n",
       "max                           1.184594e+06             162493.071318   \n",
       "\n",
       "Parameter (million USD)  AnnualVariableOperatingCost  \n",
       "count                                     324.000000  \n",
       "mean                                   343650.695148  \n",
       "std                                     61490.805437  \n",
       "min                                    265573.679013  \n",
       "25%                                    299689.070437  \n",
       "50%                                    324868.136535  \n",
       "75%                                    371229.781523  \n",
       "max                                    534280.521865  "
      ]
     },
     "execution_count": 16,
     "metadata": {},
     "output_type": "execute_result"
    }
   ],
   "source": [
    "new_data[['CapitalInvestment','AnnualFixedOperatingCost','AnnualVariableOperatingCost']].describe()"
   ]
  },
  {
   "cell_type": "code",
   "execution_count": 17,
   "metadata": {
    "collapsed": true
   },
   "outputs": [],
   "source": [
    "new_data['tot_cost'] = new_data[['CapitalInvestment','AnnualFixedOperatingCost','AnnualVariableOperatingCost']].sum(axis=1)"
   ]
  },
  {
   "cell_type": "code",
   "execution_count": 18,
   "metadata": {
    "collapsed": false
   },
   "outputs": [
    {
     "data": {
      "text/plain": [
       "count    3.240000e+02\n",
       "mean     1.137909e+06\n",
       "std      1.631190e+05\n",
       "min      9.115597e+05\n",
       "25%      1.012962e+06\n",
       "50%      1.117834e+06\n",
       "75%      1.234070e+06\n",
       "max      1.702259e+06\n",
       "Name: tot_cost, dtype: float64"
      ]
     },
     "execution_count": 18,
     "metadata": {},
     "output_type": "execute_result"
    }
   ],
   "source": [
    "new_data['tot_cost'].describe()"
   ]
  },
  {
   "cell_type": "code",
   "execution_count": 19,
   "metadata": {
    "collapsed": true
   },
   "outputs": [],
   "source": [
    "new_data['annual_cost'] = new_data[['AnnualFixedOperatingCost','AnnualVariableOperatingCost']].sum(axis=1)"
   ]
  },
  {
   "cell_type": "markdown",
   "metadata": {},
   "source": [
    "### clustering and scenario discovery functions "
   ]
  },
  {
   "cell_type": "code",
   "execution_count": 20,
   "metadata": {
    "collapsed": true
   },
   "outputs": [],
   "source": [
    "def normalize(data):\n",
    "    minima = np.min(data, axis=0)\n",
    "    maxima = np.max(data, axis=0)\n",
    "    a = 1/(maxima-minima)\n",
    "    b = minima/(minima-maxima)\n",
    "    data = a * data + b                    \n",
    "    return data\n",
    "\n",
    "def clustering(n_clusters,data,xstring,ystring):\n",
    "    data_norm = normalize(data)\n",
    "    g = mixture.GaussianMixture(n_components=n_clusters)\n",
    "    #g = mixture.GaussianMixture(n_components=n_clusters,random_state = 0)\n",
    "    g.fit(data_norm)\n",
    "    pred = g.predict(data_norm)+1\n",
    "                    \n",
    "    x=[]\n",
    "    y=[]\n",
    "    for i in range(0,len(data)):\n",
    "        x.append(data[i][0])\n",
    "        y.append(data[i][1])\n",
    "\n",
    "    df = pd.DataFrame()\n",
    "    df[xstring] = x\n",
    "    df[ystring] = y\n",
    "    df['class'] = pred\n",
    "    \n",
    "    return df"
   ]
  },
  {
   "cell_type": "code",
   "execution_count": 21,
   "metadata": {
    "collapsed": false
   },
   "outputs": [],
   "source": [
    "def get_prim(n_clusters, f_value,data,xstring,ystring,inputs):\n",
    "    \n",
    "    df = clustering(n_clusters,data,xstring,ystring)\n",
    "    list_prim =[]\n",
    "        \n",
    "    for i in range(1,df['class'].max()+1):\n",
    "        list_prim.append(prim.Prim(inputs, (df['class']==i),threshold=0.5,threshold_type=\">\"))\n",
    "\n",
    "    boxes = []\n",
    "\n",
    "    for i in range(0,len(list_prim)):\n",
    "        boxes.append(list_prim[i].find_box())\n",
    "        obj = (f_value*boxes[i].peeling_trajectory['coverage']-(1-f_value)*boxes[i].peeling_trajectory['density'])**2\n",
    "        if 1 in boxes[i].peeling_trajectory['coverage']:\n",
    "            coverage1 = np.where(boxes[i].peeling_trajectory['coverage']==1)[0][0]\n",
    "            obj = obj.drop(obj.index[[coverage1]])\n",
    "        k = obj.argmin()\n",
    "        boxes[i].select(k)\n",
    "    \n",
    "    return [boxes,df]"
   ]
  },
  {
   "cell_type": "markdown",
   "metadata": {},
   "source": [
    "### looking for the clusters that gives the best PRIM results (the number of clusters is chosen by the algorithm) "
   ]
  },
  {
   "cell_type": "code",
   "execution_count": 22,
   "metadata": {
    "collapsed": false
   },
   "outputs": [],
   "source": [
    "oois = ['annual_cost','CapitalInvestment']\n",
    "\n",
    "data = np.array([[new_data[oois[0]][0],new_data[oois[1]][0]]])\n",
    "for i in range(1,len(new_data.index)):\n",
    "    data = np.concatenate((data,np.array([[new_data[oois[0]][i],new_data[oois[1]][i]]])))"
   ]
  },
  {
   "cell_type": "code",
   "execution_count": 23,
   "metadata": {
    "collapsed": true
   },
   "outputs": [],
   "source": [
    "n_clusters = 4\n",
    "f_value = 0.5\n",
    "seuil = 1.2"
   ]
  },
  {
   "cell_type": "code",
   "execution_count": 24,
   "metadata": {
    "collapsed": false
   },
   "outputs": [],
   "source": [
    "boxes_out,df_out = get_prim(n_clusters, f_value, data,oois[0],oois[1],inputs)"
   ]
  },
  {
   "cell_type": "code",
   "execution_count": 25,
   "metadata": {
    "collapsed": false
   },
   "outputs": [
    {
     "data": {
      "image/png": "[encoded data removed]",
      "text/plain": [
       "<matplotlib.figure.Figure at 0x2d459e7d240>"
      ]
     },
     "metadata": {},
     "output_type": "display_data"
    }
   ],
   "source": [
    "f = plt.figure(figsize=(9,9))\n",
    "mycolors = [\"#66c2a5\",\"#fc8d62\",\"#8da0cb\",\"#e78ac3\"]\n",
    "mymarks = [\"o\",\"x\",\"^\",\"s\"]\n",
    "for (i,subdf) in df_out.groupby(\"class\"):\n",
    "    plt.scatter(1e-6*subdf.annual_cost,1e-6*subdf.CapitalInvestment,label=\"Cluster {}\".format(i),c=mycolors[i-1],marker=mymarks[i-1])\n",
    "    \n",
    "plt.legend()\n",
    "plt.xlabel(\"Total variable and fixed annual cost, discounted at 6% (Trillion USD)\")\n",
    "plt.ylabel(\"Capital investment cost, discounted at 6% (Trillion USD)\")\n",
    "plt.savefig(\"clusters_discounted_6.png\")"
   ]
  },
  {
   "cell_type": "markdown",
   "metadata": {},
   "source": [
    "### below are PRIM results for each cluster"
   ]
  },
  {
   "cell_type": "markdown",
   "metadata": {},
   "source": [
    "#### cluster 1  "
   ]
  },
  {
   "cell_type": "code",
   "execution_count": 26,
   "metadata": {
    "collapsed": false
   },
   "outputs": [
    {
     "data": {
      "text/html": [
       "<div>\n",
       "<style>\n",
       "    .dataframe thead tr:only-child th {\n",
       "        text-align: right;\n",
       "    }\n",
       "\n",
       "    .dataframe thead th {\n",
       "        text-align: left;\n",
       "    }\n",
       "\n",
       "    .dataframe tbody tr th {\n",
       "        vertical-align: top;\n",
       "    }\n",
       "</style>\n",
       "<table border=\"1\" class=\"dataframe\">\n",
       "  <thead>\n",
       "    <tr style=\"text-align: right;\">\n",
       "      <th></th>\n",
       "      <th>min</th>\n",
       "      <th>max</th>\n",
       "      <th>qp values</th>\n",
       "    </tr>\n",
       "  </thead>\n",
       "  <tbody>\n",
       "    <tr>\n",
       "      <th>CO2</th>\n",
       "      <td>1.0</td>\n",
       "      <td>1.0</td>\n",
       "      <td>2.282230e-27</td>\n",
       "    </tr>\n",
       "  </tbody>\n",
       "</table>\n",
       "</div>"
      ],
      "text/plain": [
       "     min  max     qp values\n",
       "CO2  1.0  1.0  2.282230e-27"
      ]
     },
     "execution_count": 26,
     "metadata": {},
     "output_type": "execute_result"
    }
   ],
   "source": [
    "boxes_out[0].limits"
   ]
  },
  {
   "cell_type": "code",
   "execution_count": 27,
   "metadata": {
    "collapsed": false
   },
   "outputs": [
    {
     "data": {
      "text/plain": [
       "(0.8214285714285714, 0.85185185185185186)"
      ]
     },
     "execution_count": 27,
     "metadata": {},
     "output_type": "execute_result"
    }
   ],
   "source": [
    "boxes_out[0].coverage,boxes_out[0].density"
   ]
  },
  {
   "cell_type": "markdown",
   "metadata": {},
   "source": [
    "#### cluster 2 "
   ]
  },
  {
   "cell_type": "code",
   "execution_count": 28,
   "metadata": {
    "collapsed": false
   },
   "outputs": [
    {
     "data": {
      "text/html": [
       "<div>\n",
       "<style>\n",
       "    .dataframe thead tr:only-child th {\n",
       "        text-align: right;\n",
       "    }\n",
       "\n",
       "    .dataframe thead th {\n",
       "        text-align: left;\n",
       "    }\n",
       "\n",
       "    .dataframe tbody tr th {\n",
       "        vertical-align: top;\n",
       "    }\n",
       "</style>\n",
       "<table border=\"1\" class=\"dataframe\">\n",
       "  <thead>\n",
       "    <tr style=\"text-align: right;\">\n",
       "      <th></th>\n",
       "      <th>min</th>\n",
       "      <th>max</th>\n",
       "      <th>qp values</th>\n",
       "    </tr>\n",
       "  </thead>\n",
       "  <tbody>\n",
       "    <tr>\n",
       "      <th>DR</th>\n",
       "      <td>3.0</td>\n",
       "      <td>3.0</td>\n",
       "      <td>1.322730e-12</td>\n",
       "    </tr>\n",
       "    <tr>\n",
       "      <th>CO2</th>\n",
       "      <td>2.0</td>\n",
       "      <td>3.0</td>\n",
       "      <td>5.785913e-07</td>\n",
       "    </tr>\n",
       "  </tbody>\n",
       "</table>\n",
       "</div>"
      ],
      "text/plain": [
       "     min  max     qp values\n",
       "DR   3.0  3.0  1.322730e-12\n",
       "CO2  2.0  3.0  5.785913e-07"
      ]
     },
     "execution_count": 28,
     "metadata": {},
     "output_type": "execute_result"
    }
   ],
   "source": [
    "boxes_out[1].limits"
   ]
  },
  {
   "cell_type": "code",
   "execution_count": 29,
   "metadata": {
    "collapsed": false
   },
   "outputs": [
    {
     "data": {
      "text/plain": [
       "(0.65217391304347827, 0.83333333333333337)"
      ]
     },
     "execution_count": 29,
     "metadata": {},
     "output_type": "execute_result"
    }
   ],
   "source": [
    "boxes_out[1].coverage,boxes_out[1].density"
   ]
  },
  {
   "cell_type": "markdown",
   "metadata": {},
   "source": [
    "#### cluster 3 "
   ]
  },
  {
   "cell_type": "code",
   "execution_count": 30,
   "metadata": {
    "collapsed": false
   },
   "outputs": [
    {
     "data": {
      "text/html": [
       "<div>\n",
       "<style>\n",
       "    .dataframe thead tr:only-child th {\n",
       "        text-align: right;\n",
       "    }\n",
       "\n",
       "    .dataframe thead th {\n",
       "        text-align: left;\n",
       "    }\n",
       "\n",
       "    .dataframe tbody tr th {\n",
       "        vertical-align: top;\n",
       "    }\n",
       "</style>\n",
       "<table border=\"1\" class=\"dataframe\">\n",
       "  <thead>\n",
       "    <tr style=\"text-align: right;\">\n",
       "      <th></th>\n",
       "      <th>min</th>\n",
       "      <th>max</th>\n",
       "      <th>qp values</th>\n",
       "    </tr>\n",
       "  </thead>\n",
       "  <tbody>\n",
       "    <tr>\n",
       "      <th>DMD</th>\n",
       "      <td>1.0</td>\n",
       "      <td>2.0</td>\n",
       "      <td>7.660167e-09</td>\n",
       "    </tr>\n",
       "    <tr>\n",
       "      <th>DR</th>\n",
       "      <td>1.0</td>\n",
       "      <td>2.0</td>\n",
       "      <td>7.660167e-09</td>\n",
       "    </tr>\n",
       "    <tr>\n",
       "      <th>CO2</th>\n",
       "      <td>2.0</td>\n",
       "      <td>3.0</td>\n",
       "      <td>2.024737e-04</td>\n",
       "    </tr>\n",
       "  </tbody>\n",
       "</table>\n",
       "</div>"
      ],
      "text/plain": [
       "     min  max     qp values\n",
       "DMD  1.0  2.0  7.660167e-09\n",
       "DR   1.0  2.0  7.660167e-09\n",
       "CO2  2.0  3.0  2.024737e-04"
      ]
     },
     "execution_count": 30,
     "metadata": {},
     "output_type": "execute_result"
    }
   ],
   "source": [
    "boxes_out[2].limits"
   ]
  },
  {
   "cell_type": "code",
   "execution_count": 31,
   "metadata": {
    "collapsed": false
   },
   "outputs": [
    {
     "data": {
      "text/plain": [
       "(0.83333333333333337, 0.83333333333333337)"
      ]
     },
     "execution_count": 31,
     "metadata": {},
     "output_type": "execute_result"
    }
   ],
   "source": [
    "boxes_out[2].coverage,boxes_out[2].density"
   ]
  },
  {
   "cell_type": "code",
   "execution_count": 32,
   "metadata": {
    "collapsed": false
   },
   "outputs": [
    {
     "data": {
      "text/html": [
       "<div>\n",
       "<style>\n",
       "    .dataframe thead tr:only-child th {\n",
       "        text-align: right;\n",
       "    }\n",
       "\n",
       "    .dataframe thead th {\n",
       "        text-align: left;\n",
       "    }\n",
       "\n",
       "    .dataframe tbody tr th {\n",
       "        vertical-align: top;\n",
       "    }\n",
       "</style>\n",
       "<table border=\"1\" class=\"dataframe\">\n",
       "  <thead>\n",
       "    <tr style=\"text-align: right;\">\n",
       "      <th></th>\n",
       "      <th>min</th>\n",
       "      <th>max</th>\n",
       "      <th>qp values</th>\n",
       "    </tr>\n",
       "  </thead>\n",
       "  <tbody>\n",
       "    <tr>\n",
       "      <th>DMD</th>\n",
       "      <td>3.0</td>\n",
       "      <td>3.0</td>\n",
       "      <td>3.540706e-12</td>\n",
       "    </tr>\n",
       "    <tr>\n",
       "      <th>CO2</th>\n",
       "      <td>2.0</td>\n",
       "      <td>2.0</td>\n",
       "      <td>3.540706e-12</td>\n",
       "    </tr>\n",
       "    <tr>\n",
       "      <th>DR</th>\n",
       "      <td>2.0</td>\n",
       "      <td>3.0</td>\n",
       "      <td>5.940319e-05</td>\n",
       "    </tr>\n",
       "  </tbody>\n",
       "</table>\n",
       "</div>"
      ],
      "text/plain": [
       "     min  max     qp values\n",
       "DMD  3.0  3.0  3.540706e-12\n",
       "CO2  2.0  2.0  3.540706e-12\n",
       "DR   2.0  3.0  5.940319e-05"
      ]
     },
     "execution_count": 32,
     "metadata": {},
     "output_type": "execute_result"
    }
   ],
   "source": [
    "boxes_out[3].limits"
   ]
  },
  {
   "cell_type": "code",
   "execution_count": 37,
   "metadata": {
    "collapsed": false
   },
   "outputs": [
    {
     "data": {
      "text/plain": [
       "(1.0, 1.0)"
      ]
     },
     "execution_count": 37,
     "metadata": {},
     "output_type": "execute_result"
    }
   ],
   "source": [
    "boxes_out[3].coverage,boxes_out[3].density"
   ]
  },
  {
   "cell_type": "code",
   "execution_count": null,
   "metadata": {
    "collapsed": true
   },
   "outputs": [],
   "source": []
  },
  {
   "cell_type": "code",
   "execution_count": null,
   "metadata": {
    "collapsed": false
   },
   "outputs": [],
   "source": []
  },
  {
   "cell_type": "code",
   "execution_count": null,
   "metadata": {
    "collapsed": true
   },
   "outputs": [],
   "source": []
  },
  {
   "cell_type": "code",
   "execution_count": null,
   "metadata": {
    "collapsed": true
   },
   "outputs": [],
   "source": []
  }
 ],
 "metadata": {
  "kernelspec": {
   "display_name": "Python 3",
   "language": "python",
   "name": "python3"
  },
  "language_info": {
   "codemirror_mode": {
    "name": "ipython",
    "version": 3
   },
   "file_extension": ".py",
   "mimetype": "text/x-python",
   "name": "python",
   "nbconvert_exporter": "python",
   "pygments_lexer": "ipython3",
   "version": "3.6.0"
  },
  "toc": {
   "colors": {
    "hover_highlight": "#DAA520",
    "navigate_num": "#000000",
    "navigate_text": "#333333",
    "running_highlight": "#FF0000",
    "selected_highlight": "#FFD700",
    "sidebar_border": "#EEEEEE",
    "wrapper_background": "#FFFFFF"
   },
   "moveMenuLeft": true,
   "nav_menu": {
    "height": "236px",
    "width": "252px"
   },
   "navigate_menu": true,
   "number_sections": true,
   "sideBar": true,
   "threshold": 4,
   "toc_cell": false,
   "toc_section_display": "block",
   "toc_window_display": false,
   "widenNotebook": false
  }
 },
 "nbformat": 4,
 "nbformat_minor": 0
}
