{
 "cells": [
  {
   "cell_type": "code",
   "execution_count": 7,
   "metadata": {
    "collapsed": true
   },
   "outputs": [],
   "source": [
    "import matplotlib\n",
    "#matplotlib.use('Qt5Agg')\n",
    "%matplotlib inline\n",
    "from matplotlib import interactive\n",
    "interactive(True)\n",
    "import pandas as pd\n",
    "import numpy as np\n",
    "import matplotlib.pyplot as plt\n",
    "import prim\n",
    "import seaborn as sns\n",
    "from sklearn import mixture"
   ]
  },
  {
   "cell_type": "code",
   "execution_count": 8,
   "metadata": {
    "collapsed": true
   },
   "outputs": [],
   "source": [
    "sns.set_context(\"notebook\",rc={\"font.size\": 18})\n",
    "sns.set_style(\"whitegrid\")\n",
    "\n",
    "data = pd.read_excel(\"GDP_Pop_SSP.xlsx\",\"PRIM\")\n",
    "\n",
    "new_data = data.set_index(['DMD', 'FUEL', 'CC RE', 'DR', 'CO2', 'CC','Scenario', 'Total discounted cost', 'percent']).reset_index()\n"
   ]
  },
  {
   "cell_type": "code",
   "execution_count": 9,
   "metadata": {
    "collapsed": false
   },
   "outputs": [
    {
     "data": {
      "text/html": [
       "<div>\n",
       "<style>\n",
       "    .dataframe thead tr:only-child th {\n",
       "        text-align: right;\n",
       "    }\n",
       "\n",
       "    .dataframe thead th {\n",
       "        text-align: left;\n",
       "    }\n",
       "\n",
       "    .dataframe tbody tr th {\n",
       "        vertical-align: top;\n",
       "    }\n",
       "</style>\n",
       "<table border=\"1\" class=\"dataframe\">\n",
       "  <thead>\n",
       "    <tr style=\"text-align: right;\">\n",
       "      <th></th>\n",
       "      <th>DMD</th>\n",
       "      <th>FUEL</th>\n",
       "      <th>CC RE</th>\n",
       "      <th>DR</th>\n",
       "      <th>CO2</th>\n",
       "      <th>CC</th>\n",
       "      <th>Scenario</th>\n",
       "      <th>Total discounted cost</th>\n",
       "      <th>percent</th>\n",
       "      <th>tot_cost</th>\n",
       "    </tr>\n",
       "  </thead>\n",
       "  <tbody>\n",
       "    <tr>\n",
       "      <th>0</th>\n",
       "      <td>1</td>\n",
       "      <td>1</td>\n",
       "      <td>1</td>\n",
       "      <td>1</td>\n",
       "      <td>1</td>\n",
       "      <td>1</td>\n",
       "      <td>111111</td>\n",
       "      <td>958.83619</td>\n",
       "      <td>0.009264</td>\n",
       "      <td>0.009264</td>\n",
       "    </tr>\n",
       "    <tr>\n",
       "      <th>1</th>\n",
       "      <td>1</td>\n",
       "      <td>1</td>\n",
       "      <td>1</td>\n",
       "      <td>1</td>\n",
       "      <td>1</td>\n",
       "      <td>2</td>\n",
       "      <td>111112</td>\n",
       "      <td>958.83619</td>\n",
       "      <td>0.009264</td>\n",
       "      <td>0.009264</td>\n",
       "    </tr>\n",
       "  </tbody>\n",
       "</table>\n",
       "</div>"
      ],
      "text/plain": [
       "   DMD  FUEL  CC RE  DR  CO2  CC  Scenario  Total discounted cost   percent  \\\n",
       "0    1     1      1   1    1   1    111111              958.83619  0.009264   \n",
       "1    1     1      1   1    1   2    111112              958.83619  0.009264   \n",
       "\n",
       "   tot_cost  \n",
       "0  0.009264  \n",
       "1  0.009264  "
      ]
     },
     "execution_count": 9,
     "metadata": {},
     "output_type": "execute_result"
    }
   ],
   "source": [
    "inputs = new_data[['DMD', 'FUEL', 'CC RE', 'DR', 'CO2', 'CC']]\n",
    "\n",
    "new_data['tot_cost'] = new_data['percent']\n",
    "\n",
    "new_data.head(2)"
   ]
  },
  {
   "cell_type": "code",
   "execution_count": 10,
   "metadata": {
    "collapsed": false
   },
   "outputs": [
    {
     "name": "stdout",
     "output_type": "stream",
     "text": [
      "0    False\n",
      "1    False\n",
      "2    False\n",
      "3    False\n",
      "4    False\n",
      "5    False\n",
      "6    False\n",
      "7    False\n",
      "8    False\n",
      "9    False\n",
      "Name: tot_cost, dtype: bool\n"
     ]
    },
    {
     "data": {
      "image/png": "[encoded data removed]",
      "text/plain": [
       "<matplotlib.figure.Figure at 0x20cc4f60160>"
      ]
     },
     "metadata": {},
     "output_type": "display_data"
    }
   ],
   "source": [
    "scenarofinterest = (new_data.tot_cost>0.01339)\n",
    "print (scenarofinterest.head(10))\n",
    "p = prim.Prim(inputs, scenarofinterest, threshold=0.5, threshold_type=\">\")\n",
    "\n",
    "box = p.find_box()\n",
    "box.show_tradeoff()\n",
    "plt.show()"
   ]
  },
  {
   "cell_type": "code",
   "execution_count": 11,
   "metadata": {
    "collapsed": false
   },
   "outputs": [
    {
     "name": "stdout",
     "output_type": "stream",
     "text": [
      "Box 1 [Peeling Trajectory 0]\n",
      "    Stats\n",
      "        Coverage: 1.000000\n",
      "        Density:  0.200617\n",
      "        Mass:     1.000000\n",
      "        Res Dim:  0.000000\n",
      "        Mean:     0.200617\n",
      "    Limits\n",
      "        Empty DataFrame\n",
      "        Columns: [min, max, qp values]\n",
      "        Index: []\n",
      "Box 1 [Peeling Trajectory 1]\n",
      "    Stats\n",
      "        Coverage: 1.000000\n",
      "        Density:  0.300926\n",
      "        Mass:     0.666667\n",
      "        Res Dim:  1.000000\n",
      "        Mean:     0.300926\n",
      "    Limits\n",
      "             min  max  qp values\n",
      "        DMD  2.0  3.0   0.000298\n",
      "Box 1 [Peeling Trajectory 2]\n",
      "    Stats\n",
      "        Coverage: 0.938462\n",
      "        Density:  0.564815\n",
      "        Mass:     0.333333\n",
      "        Res Dim:  1.000000\n",
      "        Mean:     0.564815\n",
      "    Limits\n",
      "             min  max     qp values\n",
      "        DMD  3.0  3.0  9.303769e-17\n",
      "Box 1 [Peeling Trajectory 3]\n",
      "    Stats\n",
      "        Coverage: 0.800000\n",
      "        Density:  0.722222\n",
      "        Mass:     0.222222\n",
      "        Res Dim:  2.000000\n",
      "        Mean:     0.722222\n",
      "    Limits\n",
      "             min  max     qp values\n",
      "        DMD  3.0  3.0  2.901264e-16\n",
      "        CO2  1.0  2.0  4.342419e-03\n",
      "Box 1 [Peeling Trajectory 4]\n",
      "    Stats\n",
      "        Coverage: 0.615385\n",
      "        Density:  0.833333\n",
      "        Mass:     0.148148\n",
      "        Res Dim:  3.000000\n",
      "        Mean:     0.833333\n",
      "    Limits\n",
      "               min  max     qp values\n",
      "        DMD    3.0  3.0  5.647997e-14\n",
      "        CO2    1.0  2.0  8.148313e-03\n",
      "        CC RE  2.0  3.0  5.460778e-02\n",
      "             DMD        FUEL      CC RE         DR        CO2          CC\n",
      "count  324.00000  324.000000  324.00000  324.00000  324.00000  324.000000\n",
      "mean     2.00000    2.000000    2.00000    2.00000    2.00000    1.500000\n",
      "std      0.81776    1.001547    0.81776    0.81776    0.81776    0.500773\n",
      "min      1.00000    1.000000    1.00000    1.00000    1.00000    1.000000\n",
      "25%      1.00000    1.000000    1.00000    1.00000    1.00000    1.000000\n",
      "50%      2.00000    2.000000    2.00000    2.00000    2.00000    1.500000\n",
      "75%      3.00000    3.000000    3.00000    3.00000    3.00000    2.000000\n",
      "max      3.00000    3.000000    3.00000    3.00000    3.00000    2.000000\n"
     ]
    }
   ],
   "source": [
    "box.select(0)\n",
    "print(box)\n",
    "box.select(1)\n",
    "print(box)\n",
    "box.select(2)\n",
    "print(box)\n",
    "box.select(3)\n",
    "print(box)\n",
    "box.select(4)\n",
    "print(box)\n",
    "\n",
    "print(inputs.describe())"
   ]
  },
  {
   "cell_type": "code",
   "execution_count": null,
   "metadata": {
    "collapsed": true
   },
   "outputs": [],
   "source": []
  },
  {
   "cell_type": "code",
   "execution_count": null,
   "metadata": {
    "collapsed": true
   },
   "outputs": [],
   "source": []
  },
  {
   "cell_type": "code",
   "execution_count": null,
   "metadata": {
    "collapsed": false
   },
   "outputs": [],
   "source": []
  },
  {
   "cell_type": "code",
   "execution_count": null,
   "metadata": {
    "collapsed": true
   },
   "outputs": [],
   "source": []
  },
  {
   "cell_type": "code",
   "execution_count": null,
   "metadata": {
    "collapsed": true
   },
   "outputs": [],
   "source": []
  },
  {
   "cell_type": "code",
   "execution_count": null,
   "metadata": {
    "collapsed": false
   },
   "outputs": [],
   "source": []
  },
  {
   "cell_type": "code",
   "execution_count": null,
   "metadata": {
    "collapsed": true
   },
   "outputs": [],
   "source": []
  }
 ],
 "metadata": {
  "kernelspec": {
   "display_name": "Python 3",
   "language": "python",
   "name": "python3"
  },
  "language_info": {
   "codemirror_mode": {
    "name": "ipython",
    "version": 3
   },
   "file_extension": ".py",
   "mimetype": "text/x-python",
   "name": "python",
   "nbconvert_exporter": "python",
   "pygments_lexer": "ipython3",
   "version": "3.6.0"
  }
 },
 "nbformat": 4,
 "nbformat_minor": 2
}
